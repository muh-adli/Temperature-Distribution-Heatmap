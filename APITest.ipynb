{
 "cells": [
  {
   "cell_type": "code",
   "execution_count": 3,
   "metadata": {},
   "outputs": [
    {
     "name": "stdout",
     "output_type": "stream",
     "text": [
      "At 2024-06-29 01:35:24, Weather in Jakarta: 27.2°C, Partly cloudy\n"
     ]
    }
   ],
   "source": [
    "import requests\n",
    "import time\n",
    "from datetime import datetime\n",
    "\n",
    "\n",
    "def read_api_key(file_path):\n",
    "    with open(file_path, 'r') as file:\n",
    "        return file.read().strip()\n",
    "\n",
    "api_key_file_path = \"./api.txt\"\n",
    "api_key = read_api_key(api_key_file_path)\n",
    "\n",
    "def fetch_weather_data(api_key, location):\n",
    "    url = f\"http://api.weatherapi.com/v1/current.json?key={api_key}&q={location}\"\n",
    "    response = requests.get(url)\n",
    "    if response.status_code == 200:\n",
    "        return response.json()\n",
    "    else:\n",
    "        print(f\"Failed to fetch data. Status code: {response.status_code}\")\n",
    "        return None\n",
    "\n",
    "\n",
    "def main():\n",
    "    api_key = '692d85fddc6d426aa15121827242806'  # Replace with your API key\n",
    "    location = 'Jakarta'  # Replace with the location you want to fetch data for\n",
    "\n",
    "    unique_data = set()\n",
    "    start_time = time.time()\n",
    "    end_time = start_time + 1800  # Run for 1800 seconds\n",
    "\n",
    "    last_data = None  # Variable to store last fetched data\n",
    "\n",
    "    while time.time() < end_time:\n",
    "        weather_data = fetch_weather_data(api_key, location)\n",
    "        if weather_data:\n",
    "            location_name = weather_data['location']['name']\n",
    "            temp_c = weather_data['current']['temp_c']\n",
    "            condition_text = weather_data['current']['condition']['text']\n",
    "            current_time = datetime.now().strftime('%Y-%m-%d %H:%M:%S')\n",
    "\n",
    "            current_data = (location_name, temp_c, condition_text)\n",
    "            \n",
    "            if current_data != last_data:\n",
    "                unique_data.add((location_name, temp_c, condition_text, current_time))\n",
    "                print(f\"At {current_time}, Weather in {location_name}: {temp_c}°C, {condition_text}\")\n",
    "                last_data = current_data  # Update last_data to current_data\n",
    "            \n",
    "        time.sleep(1)  # Fetch data every one second\n",
    "\n",
    "    print(f\"\\nTotal unique sets of weather data fetched: {len(unique_data)}\")\n",
    "\n",
    "if __name__ == \"__main__\":\n",
    "    main()\n"
   ]
  }
 ],
 "metadata": {
  "kernelspec": {
   "display_name": ".venv",
   "language": "python",
   "name": "python3"
  },
  "language_info": {
   "codemirror_mode": {
    "name": "ipython",
    "version": 3
   },
   "file_extension": ".py",
   "mimetype": "text/x-python",
   "name": "python",
   "nbconvert_exporter": "python",
   "pygments_lexer": "ipython3",
   "version": "3.12.1"
  }
 },
 "nbformat": 4,
 "nbformat_minor": 2
}
