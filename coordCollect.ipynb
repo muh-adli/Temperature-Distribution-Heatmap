{
 "cells": [
  {
   "cell_type": "code",
   "execution_count": 1,
   "metadata": {},
   "outputs": [],
   "source": [
    "import psycopg2\n",
    "import csv\n",
    "from psycopg2 import sql"
   ]
  },
  {
   "cell_type": "code",
   "execution_count": 2,
   "metadata": {},
   "outputs": [
    {
     "name": "stdout",
     "output_type": "stream",
     "text": [
      "Data exported successfully to titikData.csv\n"
     ]
    }
   ],
   "source": [
    "# Define your connection parameters\n",
    "dbname = \"webgis\"\n",
    "user = \"postgres\"\n",
    "password = \"12345\"\n",
    "host = \"localhost\"\n",
    "port = \"5432\"\n",
    "\n",
    "try:\n",
    "    conn = psycopg2.connect(\n",
    "        dbname=dbname,\n",
    "        user=user,\n",
    "        password=password,\n",
    "        host=host,\n",
    "        port=port\n",
    "    )\n",
    "    \n",
    "    cur = conn.cursor()\n",
    "    \n",
    "    query = sql.SQL(\"SELECT ST_AsText(geom) FROM public.\\\"pengukuranCuaca_Titik\\\"\")\n",
    "    \n",
    "    cur.execute(query)\n",
    "    # Fetch all rows\n",
    "    rows = cur.fetchall()\n",
    "    \n",
    "    # Close cursor and connection\n",
    "    cur.close()\n",
    "    conn.close()\n",
    "\n",
    "    csv_file = \"titikData.csv\"\n",
    "    # Write fetched rows to CSV file\n",
    "    with open(csv_file, 'w', newline='') as f:\n",
    "        csv_writer = csv.writer(f, delimiter=',')\n",
    "        \n",
    "        # Write data rows\n",
    "        for row in rows:\n",
    "            geom_text = row[0]\n",
    "            if geom_text.startswith('POINT'):\n",
    "                point_str = geom_text[6:-1]  # Extract the point coordinates from \"POINT(x y)\"\n",
    "                lon, lat = point_str.split()\n",
    "                csv_writer.writerow([lon, lat])\n",
    "    \n",
    "    print(f\"Data exported successfully to {csv_file}\")\n",
    "\n",
    "except psycopg2.Error as e:\n",
    "    # Handle connection or query errors\n",
    "    print(\"Error executing query:\")\n",
    "    print(e)\n",
    "except Exception as e:\n",
    "    # Handle other exceptions\n",
    "    print(\"Error:\", e)"
   ]
  },
  {
   "cell_type": "code",
   "execution_count": null,
   "metadata": {},
   "outputs": [],
   "source": []
  }
 ],
 "metadata": {
  "kernelspec": {
   "display_name": ".venv",
   "language": "python",
   "name": "python3"
  },
  "language_info": {
   "codemirror_mode": {
    "name": "ipython",
    "version": 3
   },
   "file_extension": ".py",
   "mimetype": "text/x-python",
   "name": "python",
   "nbconvert_exporter": "python",
   "pygments_lexer": "ipython3",
   "version": "3.12.1"
  }
 },
 "nbformat": 4,
 "nbformat_minor": 2
}
