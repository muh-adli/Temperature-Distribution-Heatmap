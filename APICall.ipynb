{
 "cells": [
  {
   "cell_type": "code",
   "execution_count": 1,
   "metadata": {},
   "outputs": [],
   "source": [
    "import csv\n",
    "import requests\n",
    "from datetime import datetime"
   ]
  },
  {
   "cell_type": "code",
   "execution_count": 2,
   "metadata": {},
   "outputs": [
    {
     "name": "stdout",
     "output_type": "stream",
     "text": [
      "At 2024-06-29 01:36:01, Weather in Salimunjang: 22.7°C, Fog\n",
      "At 2024-06-29 01:36:01, Weather in Salimunjang: 22.7°C, Fog\n",
      "At 2024-06-29 01:36:02, Weather in Salimunjang: 22.7°C, Fog\n",
      "At 2024-06-29 01:36:02, Weather in Salimunjang: 22.7°C, Fog\n",
      "At 2024-06-29 01:36:03, Weather in Salimunjang: 22.7°C, Fog\n",
      "At 2024-06-29 01:36:03, Weather in Salimunjang: 22.7°C, Fog\n",
      "At 2024-06-29 01:36:04, Weather in Salimunjang: 22.7°C, Fog\n",
      "At 2024-06-29 01:36:04, Weather in Salimunjang: 22.7°C, Fog\n",
      "At 2024-06-29 01:36:05, Weather in Salimunjang: 22.7°C, Fog\n",
      "At 2024-06-29 01:36:05, Weather in Salimunjang: 22.7°C, Fog\n",
      "At 2024-06-29 01:36:06, Weather in Salimunjang: 22.7°C, Fog\n",
      "At 2024-06-29 01:36:06, Weather in Salimunjang: 22.7°C, Fog\n",
      "At 2024-06-29 01:36:07, Weather in Salimunjang: 22.7°C, Fog\n",
      "At 2024-06-29 01:36:07, Weather in Salimunjang: 22.7°C, Fog\n",
      "At 2024-06-29 01:36:07, Weather in Pelawanbesar: 22.7°C, Fog\n",
      "At 2024-06-29 01:36:08, Weather in Salimunjang: 22.7°C, Fog\n",
      "At 2024-06-29 01:36:08, Weather in Salimunjang: 22.7°C, Fog\n",
      "At 2024-06-29 01:36:09, Weather in Salimunjang: 22.7°C, Fog\n",
      "At 2024-06-29 01:36:09, Weather in Salimunjang: 22.7°C, Fog\n",
      "At 2024-06-29 01:36:10, Weather in Pelawanbesar: 22.7°C, Fog\n",
      "At 2024-06-29 01:36:10, Weather in Pelawanbesar: 22.7°C, Fog\n",
      "At 2024-06-29 01:36:11, Weather in Salimunjang: 22.7°C, Fog\n",
      "At 2024-06-29 01:36:11, Weather in Salimunjang: 22.7°C, Fog\n",
      "\n",
      "Total unique sets of weather data fetched: 12\n"
     ]
    }
   ],
   "source": [
    "def fetch_weather_data(api_key, latitude, longitude):\n",
    "    location = f\"{latitude},{longitude}\"\n",
    "    url = f\"http://api.weatherapi.com/v1/current.json?key={api_key}&q={location}\"\n",
    "    response = requests.get(url)\n",
    "    if response.status_code == 200:\n",
    "        return response.json()\n",
    "    else:\n",
    "        print(f\"Failed to fetch data for {location}. Status code: {response.status_code}\")\n",
    "        return None\n",
    "\n",
    "def read_api_key(file_path):\n",
    "    with open(file_path, 'r') as file:\n",
    "        return file.read().strip()\n",
    "\n",
    "def main(): \n",
    "    # Path to the CSV file\n",
    "    csv_file_path = \"./titikData.csv\"\n",
    "    \n",
    "    # Path to the API key file\n",
    "    api_key_file_path = \"./api.txt\"\n",
    "\n",
    "    # Read the API key from the file\n",
    "    api_key = read_api_key(api_key_file_path)\n",
    "\n",
    "    # Read the CSV data\n",
    "    coordinates = []\n",
    "    with open(csv_file_path, newline='') as csvfile:\n",
    "        reader = csv.reader(csvfile)\n",
    "        for row in reader:\n",
    "            longitude, latitude = map(float, row)\n",
    "            coordinates.append((latitude, longitude))\n",
    "\n",
    "    unique_data = set()\n",
    "\n",
    "    for latitude, longitude in coordinates:\n",
    "        weather_data = fetch_weather_data(api_key, latitude, longitude)\n",
    "        if weather_data:\n",
    "            location_name = weather_data['location']['name']\n",
    "            temp_c = weather_data['current']['temp_c']\n",
    "            condition_text = weather_data['current']['condition']['text']\n",
    "            current_time = datetime.now().strftime('%Y-%m-%d %H:%M:%S')\n",
    "\n",
    "            unique_data.add((location_name, temp_c, condition_text, current_time))\n",
    "            print(f\"At {current_time}, Weather in {location_name}: {temp_c}°C, {condition_text}\")\n",
    "\n",
    "    print(f\"\\nTotal unique sets of weather data fetched: {len(unique_data)}\")\n",
    "\n",
    "if __name__ == \"__main__\":\n",
    "    main()"
   ]
  }
 ],
 "metadata": {
  "kernelspec": {
   "display_name": ".venv",
   "language": "python",
   "name": "python3"
  },
  "language_info": {
   "codemirror_mode": {
    "name": "ipython",
    "version": 3
   },
   "file_extension": ".py",
   "mimetype": "text/x-python",
   "name": "python",
   "nbconvert_exporter": "python",
   "pygments_lexer": "ipython3",
   "version": "3.12.1"
  }
 },
 "nbformat": 4,
 "nbformat_minor": 2
}
